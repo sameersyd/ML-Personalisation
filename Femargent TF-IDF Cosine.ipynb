{
 "cells": [
  {
   "cell_type": "code",
   "execution_count": 1,
   "metadata": {},
   "outputs": [],
   "source": [
    "import csv\n",
    "from sklearn.feature_extraction.text import TfidfVectorizer\n",
    "from sklearn.cluster import KMeans\n",
    "import numpy as np\n",
    "import pandas as pd"
   ]
  },
  {
   "cell_type": "code",
   "execution_count": 2,
   "metadata": {},
   "outputs": [],
   "source": [
    "def setDocumentContent():\n",
    "    with open('/Users/sameernawaz/AnacondaProjects/Jupyter Notebook/ML Personalisation/Datasets/Streams.csv', 'r') as csv_file:\n",
    "        csv_reader = csv.reader(csv_file)\n",
    "        count = 0\n",
    "        for line in csv_reader:\n",
    "            val[count] = line\n",
    "            count = count + 1\n",
    "            if count >= sizeOfSets :\n",
    "                break\n",
    "            \n",
    "    countTemp = 0\n",
    "    for i in val:\n",
    "        document[countTemp] = i[13]\n",
    "        countTemp += 1"
   ]
  },
  {
   "cell_type": "code",
   "execution_count": 3,
   "metadata": {},
   "outputs": [],
   "source": [
    "sizeOfSets = 300\n",
    "val = [None] * sizeOfSets\n",
    "document = [\"\"] * sizeOfSets\n",
    "\n",
    "setDocumentContent()"
   ]
  },
  {
   "cell_type": "code",
   "execution_count": 4,
   "metadata": {},
   "outputs": [
    {
     "name": "stdout",
     "output_type": "stream",
     "text": [
      "Requirement already satisfied: textsearch in /anaconda3/lib/python3.7/site-packages (0.0.17)\n",
      "Requirement already satisfied: pyahocorasick in /anaconda3/lib/python3.7/site-packages (from textsearch) (1.4.0)\n",
      "Requirement already satisfied: Unidecode in /anaconda3/lib/python3.7/site-packages (from textsearch) (1.1.1)\n",
      "Requirement already satisfied: contractions in /anaconda3/lib/python3.7/site-packages (0.0.24)\n",
      "Requirement already satisfied: textsearch in /anaconda3/lib/python3.7/site-packages (from contractions) (0.0.17)\n",
      "Requirement already satisfied: Unidecode in /anaconda3/lib/python3.7/site-packages (from textsearch->contractions) (1.1.1)\n",
      "Requirement already satisfied: pyahocorasick in /anaconda3/lib/python3.7/site-packages (from textsearch->contractions) (1.4.0)\n"
     ]
    },
    {
     "name": "stderr",
     "output_type": "stream",
     "text": [
      "[nltk_data] Downloading package punkt to\n",
      "[nltk_data]     /Users/sameernawaz/nltk_data...\n",
      "[nltk_data]   Package punkt is already up-to-date!\n",
      "[nltk_data] Downloading package stopwords to\n",
      "[nltk_data]     /Users/sameernawaz/nltk_data...\n",
      "[nltk_data]   Package stopwords is already up-to-date!\n"
     ]
    },
    {
     "data": {
      "text/plain": [
       "True"
      ]
     },
     "execution_count": 4,
     "metadata": {},
     "output_type": "execute_result"
    }
   ],
   "source": [
    "!pip install textsearch\n",
    "!pip install contractions\n",
    "import nltk\n",
    "nltk.download('punkt')\n",
    "nltk.download('stopwords')"
   ]
  },
  {
   "cell_type": "code",
   "execution_count": 5,
   "metadata": {},
   "outputs": [
    {
     "data": {
      "text/html": [
       "<div>\n",
       "<style scoped>\n",
       "    .dataframe tbody tr th:only-of-type {\n",
       "        vertical-align: middle;\n",
       "    }\n",
       "\n",
       "    .dataframe tbody tr th {\n",
       "        vertical-align: top;\n",
       "    }\n",
       "\n",
       "    .dataframe thead th {\n",
       "        text-align: right;\n",
       "    }\n",
       "</style>\n",
       "<table border=\"1\" class=\"dataframe\">\n",
       "  <thead>\n",
       "    <tr style=\"text-align: right;\">\n",
       "      <th></th>\n",
       "      <th>objectID</th>\n",
       "      <th>Shares</th>\n",
       "      <th>VideoType</th>\n",
       "      <th>VideoName</th>\n",
       "      <th>videoURL</th>\n",
       "      <th>Comments</th>\n",
       "      <th>profileClicks</th>\n",
       "      <th>userPointerType</th>\n",
       "      <th>userPointerClassName</th>\n",
       "      <th>userPointerObjectID</th>\n",
       "      <th>imageType</th>\n",
       "      <th>imageName</th>\n",
       "      <th>imageURL</th>\n",
       "      <th>text</th>\n",
       "      <th>likes</th>\n",
       "      <th>views</th>\n",
       "      <th>bookmarks</th>\n",
       "      <th>createdAt</th>\n",
       "      <th>updatedAt</th>\n",
       "    </tr>\n",
       "  </thead>\n",
       "  <tbody>\n",
       "    <tr>\n",
       "      <th>0</th>\n",
       "      <td>gFfpVo2FwT</td>\n",
       "      <td>0</td>\n",
       "      <td></td>\n",
       "      <td></td>\n",
       "      <td></td>\n",
       "      <td>1</td>\n",
       "      <td>0</td>\n",
       "      <td>Pointer</td>\n",
       "      <td>_User</td>\n",
       "      <td>JdOjsewt0L</td>\n",
       "      <td></td>\n",
       "      <td></td>\n",
       "      <td></td>\n",
       "      <td>Cheers ladies! Pleasure to meet you, I’m Safin...</td>\n",
       "      <td>7</td>\n",
       "      <td>12</td>\n",
       "      <td>0</td>\n",
       "      <td>2020-03-03T12:49:31.508Z</td>\n",
       "      <td>2020-03-03T12:49:31.508Z</td>\n",
       "    </tr>\n",
       "    <tr>\n",
       "      <th>1</th>\n",
       "      <td>jRNVujUa03</td>\n",
       "      <td>0</td>\n",
       "      <td></td>\n",
       "      <td></td>\n",
       "      <td></td>\n",
       "      <td>0</td>\n",
       "      <td>1</td>\n",
       "      <td>Pointer</td>\n",
       "      <td>_User</td>\n",
       "      <td>XJ1fbtm3aC</td>\n",
       "      <td>File</td>\n",
       "      <td>652013e6864a6059b449f6b081709304_image.jpg</td>\n",
       "      <td>https://parsefiles.back4app.com/Eu2H7JiGkiBwPa...</td>\n",
       "      <td>Transform your life! Tomorrow Saturday Novembe...</td>\n",
       "      <td>6</td>\n",
       "      <td>7</td>\n",
       "      <td>1</td>\n",
       "      <td>2020-03-03T12:49:31.508Z</td>\n",
       "      <td>2020-03-03T12:49:31.508Z</td>\n",
       "    </tr>\n",
       "    <tr>\n",
       "      <th>2</th>\n",
       "      <td>uvvYbZtcsl</td>\n",
       "      <td>0</td>\n",
       "      <td></td>\n",
       "      <td></td>\n",
       "      <td></td>\n",
       "      <td>1</td>\n",
       "      <td>0</td>\n",
       "      <td>Pointer</td>\n",
       "      <td>_User</td>\n",
       "      <td>MPIYycMk29</td>\n",
       "      <td>File</td>\n",
       "      <td>945e66a01ae64098f2b94937a134a566_image.jpg</td>\n",
       "      <td>https://parsefiles.back4app.com/Eu2H7JiGkiBwPa...</td>\n",
       "      <td>Making moves at the Digital Hollywood conventi...</td>\n",
       "      <td>6</td>\n",
       "      <td>22</td>\n",
       "      <td>0</td>\n",
       "      <td>2020-03-03T12:49:31.517Z</td>\n",
       "      <td>2020-03-03T12:49:31.517Z</td>\n",
       "    </tr>\n",
       "    <tr>\n",
       "      <th>3</th>\n",
       "      <td>h7GgZoqjRL</td>\n",
       "      <td>0</td>\n",
       "      <td></td>\n",
       "      <td></td>\n",
       "      <td></td>\n",
       "      <td>0</td>\n",
       "      <td>1</td>\n",
       "      <td>Pointer</td>\n",
       "      <td>_User</td>\n",
       "      <td>EwlsOjH8zR</td>\n",
       "      <td>File</td>\n",
       "      <td>791db236ef99b9603c5dd2e6b5265292_image.jpg</td>\n",
       "      <td>https://parsefiles.back4app.com/Eu2H7JiGkiBwPa...</td>\n",
       "      <td>Note to self: All your milestones started from...</td>\n",
       "      <td>7</td>\n",
       "      <td>16</td>\n",
       "      <td>0</td>\n",
       "      <td>2020-03-03T12:49:31.517Z</td>\n",
       "      <td>2020-03-03T12:49:31.517Z</td>\n",
       "    </tr>\n",
       "    <tr>\n",
       "      <th>4</th>\n",
       "      <td>uFsYWSv0uZ</td>\n",
       "      <td>0</td>\n",
       "      <td></td>\n",
       "      <td></td>\n",
       "      <td></td>\n",
       "      <td>1</td>\n",
       "      <td>1</td>\n",
       "      <td>Pointer</td>\n",
       "      <td>_User</td>\n",
       "      <td>DkROZ0bjmt</td>\n",
       "      <td></td>\n",
       "      <td></td>\n",
       "      <td></td>\n",
       "      <td>Hello! So excited to be part of this! I’m Alis...</td>\n",
       "      <td>6</td>\n",
       "      <td>9</td>\n",
       "      <td>0</td>\n",
       "      <td>2020-03-03T12:49:31.517Z</td>\n",
       "      <td>2020-03-03T12:49:31.517Z</td>\n",
       "    </tr>\n",
       "  </tbody>\n",
       "</table>\n",
       "</div>"
      ],
      "text/plain": [
       "     objectID Shares VideoType VideoName videoURL Comments profileClicks  \\\n",
       "0  gFfpVo2FwT      0                                     1             0   \n",
       "1  jRNVujUa03      0                                     0             1   \n",
       "2  uvvYbZtcsl      0                                     1             0   \n",
       "3  h7GgZoqjRL      0                                     0             1   \n",
       "4  uFsYWSv0uZ      0                                     1             1   \n",
       "\n",
       "  userPointerType userPointerClassName userPointerObjectID imageType  \\\n",
       "0         Pointer                _User          JdOjsewt0L             \n",
       "1         Pointer                _User          XJ1fbtm3aC      File   \n",
       "2         Pointer                _User          MPIYycMk29      File   \n",
       "3         Pointer                _User          EwlsOjH8zR      File   \n",
       "4         Pointer                _User          DkROZ0bjmt             \n",
       "\n",
       "                                    imageName  \\\n",
       "0                                               \n",
       "1  652013e6864a6059b449f6b081709304_image.jpg   \n",
       "2  945e66a01ae64098f2b94937a134a566_image.jpg   \n",
       "3  791db236ef99b9603c5dd2e6b5265292_image.jpg   \n",
       "4                                               \n",
       "\n",
       "                                            imageURL  \\\n",
       "0                                                      \n",
       "1  https://parsefiles.back4app.com/Eu2H7JiGkiBwPa...   \n",
       "2  https://parsefiles.back4app.com/Eu2H7JiGkiBwPa...   \n",
       "3  https://parsefiles.back4app.com/Eu2H7JiGkiBwPa...   \n",
       "4                                                      \n",
       "\n",
       "                                                text likes views bookmarks  \\\n",
       "0  Cheers ladies! Pleasure to meet you, I’m Safin...     7    12         0   \n",
       "1  Transform your life! Tomorrow Saturday Novembe...     6     7         1   \n",
       "2  Making moves at the Digital Hollywood conventi...     6    22         0   \n",
       "3  Note to self: All your milestones started from...     7    16         0   \n",
       "4  Hello! So excited to be part of this! I’m Alis...     6     9         0   \n",
       "\n",
       "                  createdAt                 updatedAt  \n",
       "0  2020-03-03T12:49:31.508Z  2020-03-03T12:49:31.508Z  \n",
       "1  2020-03-03T12:49:31.508Z  2020-03-03T12:49:31.508Z  \n",
       "2  2020-03-03T12:49:31.517Z  2020-03-03T12:49:31.517Z  \n",
       "3  2020-03-03T12:49:31.517Z  2020-03-03T12:49:31.517Z  \n",
       "4  2020-03-03T12:49:31.517Z  2020-03-03T12:49:31.517Z  "
      ]
     },
     "execution_count": 5,
     "metadata": {},
     "output_type": "execute_result"
    }
   ],
   "source": [
    "df = pd.DataFrame(val, columns = ['objectID', 'Shares', 'VideoType', 'VideoName', 'videoURL', \n",
    "                                  'Comments', 'profileClicks', 'userPointerType', 'userPointerClassName', \n",
    "                                  'userPointerObjectID', 'imageType', 'imageName', 'imageURL', 'text', \n",
    "                                  'likes', 'views', 'bookmarks', 'createdAt', 'updatedAt']) \n",
    "df.head()"
   ]
  },
  {
   "cell_type": "code",
   "execution_count": 6,
   "metadata": {},
   "outputs": [
    {
     "name": "stdout",
     "output_type": "stream",
     "text": [
      "<class 'pandas.core.frame.DataFrame'>\n",
      "Int64Index: 300 entries, 0 to 299\n",
      "Data columns (total 3 columns):\n",
      "objectID               300 non-null object\n",
      "userPointerObjectID    300 non-null object\n",
      "text                   300 non-null object\n",
      "dtypes: object(3)\n",
      "memory usage: 9.4+ KB\n"
     ]
    }
   ],
   "source": [
    "df = df[['objectID', 'userPointerObjectID', 'text']]\n",
    "df.dropna(inplace=True)\n",
    "df.info()"
   ]
  },
  {
   "cell_type": "code",
   "execution_count": 7,
   "metadata": {},
   "outputs": [
    {
     "data": {
      "text/plain": [
       "300"
      ]
     },
     "execution_count": 7,
     "metadata": {},
     "output_type": "execute_result"
    }
   ],
   "source": [
    "import nltk\n",
    "import re\n",
    "import numpy as np\n",
    "import contractions\n",
    "\n",
    "stop_words = nltk.corpus.stopwords.words('english')\n",
    "\n",
    "def normalize_document(doc):\n",
    "    # lower case and remove special characters\\whitespaces\n",
    "    doc = re.sub(r'[^a-zA-Z0-9\\s]', '', doc, re.I|re.A)\n",
    "    doc = doc.lower()\n",
    "    doc = doc.strip()\n",
    "    doc = contractions.fix(doc)\n",
    "    # tokenize document\n",
    "    tokens = nltk.word_tokenize(doc)\n",
    "    #filter stopwords out of document\n",
    "    filtered_tokens = [token for token in tokens if token not in stop_words]\n",
    "    # re-create document from filtered tokens\n",
    "    doc = ' '.join(filtered_tokens)\n",
    "    return doc\n",
    "\n",
    "normalize_corpus = np.vectorize(normalize_document)\n",
    "\n",
    "norm_corpus = normalize_corpus(list(df['text']))\n",
    "len(norm_corpus)"
   ]
  },
  {
   "cell_type": "code",
   "execution_count": 8,
   "metadata": {},
   "outputs": [
    {
     "data": {
      "text/plain": [
       "(300, 1953)"
      ]
     },
     "execution_count": 8,
     "metadata": {},
     "output_type": "execute_result"
    }
   ],
   "source": [
    "from sklearn.feature_extraction.text import TfidfVectorizer\n",
    "\n",
    "tf = TfidfVectorizer(ngram_range=(1, 2), min_df=2)\n",
    "tfidf_matrix = tf.fit_transform(norm_corpus)\n",
    "tfidf_matrix.shape"
   ]
  },
  {
   "cell_type": "code",
   "execution_count": 131,
   "metadata": {},
   "outputs": [
    {
     "data": {
      "text/html": [
       "<div>\n",
       "<style scoped>\n",
       "    .dataframe tbody tr th:only-of-type {\n",
       "        vertical-align: middle;\n",
       "    }\n",
       "\n",
       "    .dataframe tbody tr th {\n",
       "        vertical-align: top;\n",
       "    }\n",
       "\n",
       "    .dataframe thead th {\n",
       "        text-align: right;\n",
       "    }\n",
       "</style>\n",
       "<table border=\"1\" class=\"dataframe\">\n",
       "  <thead>\n",
       "    <tr style=\"text-align: right;\">\n",
       "      <th></th>\n",
       "      <th>0</th>\n",
       "      <th>1</th>\n",
       "      <th>2</th>\n",
       "      <th>3</th>\n",
       "      <th>4</th>\n",
       "      <th>5</th>\n",
       "      <th>6</th>\n",
       "      <th>7</th>\n",
       "      <th>8</th>\n",
       "      <th>9</th>\n",
       "      <th>...</th>\n",
       "      <th>290</th>\n",
       "      <th>291</th>\n",
       "      <th>292</th>\n",
       "      <th>293</th>\n",
       "      <th>294</th>\n",
       "      <th>295</th>\n",
       "      <th>296</th>\n",
       "      <th>297</th>\n",
       "      <th>298</th>\n",
       "      <th>299</th>\n",
       "    </tr>\n",
       "  </thead>\n",
       "  <tbody>\n",
       "    <tr>\n",
       "      <th>0</th>\n",
       "      <td>1.000000</td>\n",
       "      <td>0.031253</td>\n",
       "      <td>0.000000</td>\n",
       "      <td>0.031348</td>\n",
       "      <td>0.000000</td>\n",
       "      <td>0.000000</td>\n",
       "      <td>0.000000</td>\n",
       "      <td>0.0</td>\n",
       "      <td>0.018056</td>\n",
       "      <td>0.00000</td>\n",
       "      <td>...</td>\n",
       "      <td>0.000000</td>\n",
       "      <td>0.074462</td>\n",
       "      <td>0.0</td>\n",
       "      <td>0.044366</td>\n",
       "      <td>0.0</td>\n",
       "      <td>0.000000</td>\n",
       "      <td>0.000000</td>\n",
       "      <td>0.000000</td>\n",
       "      <td>0.009750</td>\n",
       "      <td>0.038225</td>\n",
       "    </tr>\n",
       "    <tr>\n",
       "      <th>1</th>\n",
       "      <td>0.031253</td>\n",
       "      <td>1.000000</td>\n",
       "      <td>0.000000</td>\n",
       "      <td>0.000000</td>\n",
       "      <td>0.000000</td>\n",
       "      <td>0.066673</td>\n",
       "      <td>0.036348</td>\n",
       "      <td>0.0</td>\n",
       "      <td>0.036857</td>\n",
       "      <td>0.02975</td>\n",
       "      <td>...</td>\n",
       "      <td>0.000000</td>\n",
       "      <td>0.000000</td>\n",
       "      <td>0.0</td>\n",
       "      <td>0.000000</td>\n",
       "      <td>0.0</td>\n",
       "      <td>0.067165</td>\n",
       "      <td>0.000000</td>\n",
       "      <td>0.093421</td>\n",
       "      <td>0.019893</td>\n",
       "      <td>0.033656</td>\n",
       "    </tr>\n",
       "    <tr>\n",
       "      <th>2</th>\n",
       "      <td>0.000000</td>\n",
       "      <td>0.000000</td>\n",
       "      <td>1.000000</td>\n",
       "      <td>0.000000</td>\n",
       "      <td>0.088863</td>\n",
       "      <td>0.000000</td>\n",
       "      <td>0.000000</td>\n",
       "      <td>0.0</td>\n",
       "      <td>0.000000</td>\n",
       "      <td>0.00000</td>\n",
       "      <td>...</td>\n",
       "      <td>0.000000</td>\n",
       "      <td>0.000000</td>\n",
       "      <td>0.0</td>\n",
       "      <td>0.000000</td>\n",
       "      <td>0.0</td>\n",
       "      <td>0.080018</td>\n",
       "      <td>0.000000</td>\n",
       "      <td>0.085184</td>\n",
       "      <td>0.026671</td>\n",
       "      <td>0.039878</td>\n",
       "    </tr>\n",
       "    <tr>\n",
       "      <th>3</th>\n",
       "      <td>0.031348</td>\n",
       "      <td>0.000000</td>\n",
       "      <td>0.000000</td>\n",
       "      <td>1.000000</td>\n",
       "      <td>0.019705</td>\n",
       "      <td>0.000000</td>\n",
       "      <td>0.000000</td>\n",
       "      <td>0.0</td>\n",
       "      <td>0.010130</td>\n",
       "      <td>0.00000</td>\n",
       "      <td>...</td>\n",
       "      <td>0.000000</td>\n",
       "      <td>0.063811</td>\n",
       "      <td>0.0</td>\n",
       "      <td>0.000000</td>\n",
       "      <td>0.0</td>\n",
       "      <td>0.000000</td>\n",
       "      <td>0.000000</td>\n",
       "      <td>0.019158</td>\n",
       "      <td>0.000000</td>\n",
       "      <td>0.098137</td>\n",
       "    </tr>\n",
       "    <tr>\n",
       "      <th>4</th>\n",
       "      <td>0.000000</td>\n",
       "      <td>0.000000</td>\n",
       "      <td>0.088863</td>\n",
       "      <td>0.019705</td>\n",
       "      <td>1.000000</td>\n",
       "      <td>0.020010</td>\n",
       "      <td>0.047376</td>\n",
       "      <td>0.0</td>\n",
       "      <td>0.029298</td>\n",
       "      <td>0.03607</td>\n",
       "      <td>...</td>\n",
       "      <td>0.091042</td>\n",
       "      <td>0.000000</td>\n",
       "      <td>0.0</td>\n",
       "      <td>0.000000</td>\n",
       "      <td>0.0</td>\n",
       "      <td>0.017008</td>\n",
       "      <td>0.018261</td>\n",
       "      <td>0.015002</td>\n",
       "      <td>0.037885</td>\n",
       "      <td>0.017022</td>\n",
       "    </tr>\n",
       "  </tbody>\n",
       "</table>\n",
       "<p>5 rows × 300 columns</p>\n",
       "</div>"
      ],
      "text/plain": [
       "        0         1         2         3         4         5         6    7    \\\n",
       "0  1.000000  0.031253  0.000000  0.031348  0.000000  0.000000  0.000000  0.0   \n",
       "1  0.031253  1.000000  0.000000  0.000000  0.000000  0.066673  0.036348  0.0   \n",
       "2  0.000000  0.000000  1.000000  0.000000  0.088863  0.000000  0.000000  0.0   \n",
       "3  0.031348  0.000000  0.000000  1.000000  0.019705  0.000000  0.000000  0.0   \n",
       "4  0.000000  0.000000  0.088863  0.019705  1.000000  0.020010  0.047376  0.0   \n",
       "\n",
       "        8        9    ...       290       291  292       293  294       295  \\\n",
       "0  0.018056  0.00000  ...  0.000000  0.074462  0.0  0.044366  0.0  0.000000   \n",
       "1  0.036857  0.02975  ...  0.000000  0.000000  0.0  0.000000  0.0  0.067165   \n",
       "2  0.000000  0.00000  ...  0.000000  0.000000  0.0  0.000000  0.0  0.080018   \n",
       "3  0.010130  0.00000  ...  0.000000  0.063811  0.0  0.000000  0.0  0.000000   \n",
       "4  0.029298  0.03607  ...  0.091042  0.000000  0.0  0.000000  0.0  0.017008   \n",
       "\n",
       "        296       297       298       299  \n",
       "0  0.000000  0.000000  0.009750  0.038225  \n",
       "1  0.000000  0.093421  0.019893  0.033656  \n",
       "2  0.000000  0.085184  0.026671  0.039878  \n",
       "3  0.000000  0.019158  0.000000  0.098137  \n",
       "4  0.018261  0.015002  0.037885  0.017022  \n",
       "\n",
       "[5 rows x 300 columns]"
      ]
     },
     "execution_count": 131,
     "metadata": {},
     "output_type": "execute_result"
    }
   ],
   "source": [
    "from sklearn.metrics.pairwise import cosine_similarity\n",
    "\n",
    "doc_sim = cosine_similarity(tfidf_matrix)\n",
    "doc_sim_df = pd.DataFrame(doc_sim)\n",
    "doc_sim_df.head()"
   ]
  },
  {
   "cell_type": "code",
   "execution_count": 132,
   "metadata": {},
   "outputs": [
    {
     "data": {
      "text/plain": [
       "(array(['gFfpVo2FwT', 'jRNVujUa03', 'uvvYbZtcsl', 'h7GgZoqjRL',\n",
       "        'uFsYWSv0uZ', 'F4gcyaeB0d', '4nBTSiQwHL', 'FPTz6YhQMb',\n",
       "        'NvSHNuCrQh', 'EBCE9AXTQD', 's8Ckilgwk2', 'JlBd0kqVou',\n",
       "        'ssuCcmPnTY', 'lJFFQiUN5l', 'Rf2iiUPE1H', 'LdIk9WxcGC',\n",
       "        'HfBD0OFTBl', 'KIM2uTbCOz', '79sAJnCNfw', 'QtKac7HzJR',\n",
       "        'zWzbMtOnfc', 's2p3C7g7SE', 'O1weceVmRs', '8BZVQFVwaT',\n",
       "        'Ve6EkVJUG8', 'EhDhX22EvM', 'o0ZMcH9HaD', 'EkCSbT3w2x',\n",
       "        'eJCsyOHrKM', 'VKKCXWAvkp', '7LwwopHrzt', 'NgslXBqwnK',\n",
       "        'eSXB7yUFzm', 'Lg8DpLrxZL', 'EutKhxv4oF', 'edk4FU0i60',\n",
       "        'ApBn2koyDG', 'xZ3TVkD04n', 'pAPBBch4rd', 'bQtJMlHovr',\n",
       "        'MXZNm8JOxi', 'tgzfL8z0lr', 'Q1ReuDcEFT', 'QuIBtMT7fU',\n",
       "        'TuZmkTGwQL', 'a0hpG87wrb', 'ftgGkuv6Nm', 'jyCdQiz9mA',\n",
       "        'lAOjGGbAq7', 'bZxWPVTxTZ', 'olrNbG3dGR', 'x6MzHiCdFc',\n",
       "        'eRgsUaGfF2', '9MDZgDmEiA', 'kltNeVnoCb', 'hOPYqKF7dA',\n",
       "        'D2KcgpGjXf', 'EiDj2fqnqe', 'EoLb6GHQfp', 'jn3iLya8Kv',\n",
       "        'CFjjpnRr4t', 'yxc6f6sih3', 'sKb2vcdIAo', 'tMDC5qloAO',\n",
       "        'ZwUXr5KmtM', 'YCRrP42zb7', 'gdhdKs7nQB', '4dOmWMH06d',\n",
       "        'qSDemVF6EP', 'AJRE8ptkk5', 'Oqmo29bysT', 'M4Be3B7ckU',\n",
       "        'CCLAiQg0v3', 'qiI74drEmM', 'tmGJLiSb55', 'tPOC6m4sFL',\n",
       "        'INC6jmIMNr', 'DQ3h4nDkRI', 'Tcx6ELmrYZ', 'MHUEbKli0Y',\n",
       "        'QR4V0IVtlB', 'ZK2KCdP4SD', 'xl3Yp4eTUs', 'ALQwJ8uENW',\n",
       "        'JglKpEXObE', 'eS12AdiXmT', 'RvUfCQOzj7', 'EzEhNk7NIq',\n",
       "        'gibEGHuwOS', 'uYkbEpU9UQ', 'o2HKkE3aif', '2sSgjyWxUW',\n",
       "        'lboshMjJwq', 'qSH2kogFWV', 'wAXg1N4OZn', 'qcBrmaRZss',\n",
       "        'msw2YZC7S3', '7DKssb9LJD', 'jOCjzYHnTi', 'VMvdkqYCay',\n",
       "        'CuyS202HbP', '8wmZkN3Az9', 'Vi8P682faC', 'tUBOthLDa9',\n",
       "        'mhGqrTEqLC', 'kC5XPflAFV', 'GQ7INqmuwN', 'VqNU1emVyP',\n",
       "        'AAZl3gll3r', 'cHcm7Z5qXr', '8iuE2aQqSj', 'aFNX7Bhk9u',\n",
       "        'kuJnB1gUrg', '5oZn2n3bYh', '38S2JJtUH1', 'QAQPrvY7cE',\n",
       "        'TqASVI0STB', 'HY0nxKzPvs', 'Ozo2Lm95BY', 'lApM8gzILl',\n",
       "        'chDWA2BBd6', 'GrFTNKp4MD', 'RC4X8LmE21', '0zNBvO3QGr',\n",
       "        'LdBn4Drery', 'whHTm4O1GB', 'CuBcA8WlW1', 'CUoCJJrXpU',\n",
       "        'oBndcz8nDE', 'yFuDaTvAKb', 'G1kl9wMcoG', 'VgCERw7PJ0',\n",
       "        'rwvLRIBA9n', 'AS0GehlKhl', '0XbRVYFcPp', 'uUYRe9lgg9',\n",
       "        'N2itQQuFDN', 'eJKaktxEDp', 'vwUSAw23ng', 'POUqTCTIV2',\n",
       "        'PkAbgpM6D3', 'Gi3pPJIbxJ', 'OqjBc2OqlM', '3fnktWYtBd',\n",
       "        '8FGadfyRp1', 'zFgicmE0CV', 'GlDtJJVe7T', 'VL6uxvSZ8d',\n",
       "        'bzLOyQy8th', 'jCNLOfJwUu', 'h984Ps5IYq', '3c1rjvcSvb',\n",
       "        '8V2yUs7sxK', 'tzKA5vC9Dn', 'l6Z0bXtlDc', '56JzMCK1zL',\n",
       "        'M3wn4zVxqF', '7PzJM4Bj5a', '28PHhy0fcj', 'WwJqSoZCBc',\n",
       "        'k3RczLqJLC', 'UM5FqCAH5Y', 'N0dVASF8BQ', 'UjTGMDLe9N',\n",
       "        'U69H8ywArW', 'kyeGGXtSo7', '5Ux17Uqlhp', 'CiLEv7xsbY',\n",
       "        'nIVJn4KczR', '04Ui6OVyfH', 'J3KY6rcp78', 'CrbJfY0bGA',\n",
       "        '2LP0951xlT', 'MzGMFyAAgT', 'iUAIRpXWa3', 'DxLzyxGa5d',\n",
       "        '12raWayhMP', 'Fx2wMbQo4x', 'oCa3aLLQ39', 'GE44OeG0GG',\n",
       "        'uZVN4CNdYE', 'jo7Zjpc6Cz', 'Di6FskWDHR', '5rpQd2gjkO',\n",
       "        'Etvzj6HA0e', 'LW9GAVjmQ4', 'Ie63bPO34h', '8B1AdByXeg',\n",
       "        'EKMKT1lNRS', 'asySkRMyXH', '8MOcWtmXD6', 'g1P3VM1TN0',\n",
       "        '71nlOrTVRZ', 'ZBbMBRkT5u', '8kdCbKEqZR', 'Mw8hW8AV45',\n",
       "        'BI8NvznRwM', 'PVvcGjXp2S', 'vgRH7E3LQa', '6LBllJztDS',\n",
       "        'cDGXAunEKK', 'ZgJMEtLtSz', 'ACsTgFxFJk', 'Sh6KreO4IU',\n",
       "        'FJSYPIIUPR', 'PCDKx5I50w', 'dTcLAn8iak', 'T56337r8yh',\n",
       "        'mfQsZFCOIz', 'aa9JsX1Fp8', 'eqUxumfxV0', 'pde17IQm1L',\n",
       "        'zpV36y7fQM', 'Oj0x0WL8LF', '8Mbr1wK1rs', 'PRuZys2AU8',\n",
       "        '0HEXtsC68o', 'aCgDNakkpW', 'RvB1aeSRdF', 'XttGLwhNtw',\n",
       "        'QDu184fmNO', 'TEMIoE6Pl9', 'UAiEmKcvhl', '2tI4crzwET',\n",
       "        'sUB8MluS4Y', 'BEybiIr0pv', 'AXVsgbTtIy', '0aCMvqDzC5',\n",
       "        'c6TMHzCrTN', 'jQktutMJ8N', 'b3EG3gi1Hb', 'zt0AeCLRqm',\n",
       "        'lIPN6UAwTY', 'eQhkYXauFD', 'ynsp2Z4zG7', 'rfueXDEpRw',\n",
       "        'ichG8mg1Sm', 'T4pfvyoXFG', 'm1CW96ldtD', 'kI4JZakaHl',\n",
       "        'eG0Tynlz6r', 'pRKZXBeGPk', 'hjV9DZapBC', 'tGf8P8MhnO',\n",
       "        'nKK62n6NV5', 'A9TOnn5hLC', 'TM9S00JogB', 'dgQ7LHta90',\n",
       "        'VoEd9lGg1Z', 'YwmiFiSRui', 'GbAsFPKiLl', 'rcTWUU4erd',\n",
       "        'TST85G81os', 'iEpidBFH0x', '8YN1QIHdOP', 'OFBo80KwJg',\n",
       "        'hRNdsgmnrf', 'DpW1F0RSC8', 'jpS2J3nB18', 'I30w3M9IzG',\n",
       "        'LHfDsXcDcx', 'aipOg9JOb6', 'dB6LhZgyT1', 'FKpuML1zZU',\n",
       "        'L0cN1OD4hG', 'G6Cj4AeXKn', 'y8FKywwEet', 'h4OerjYD3J',\n",
       "        '5X8ehUyPq2', 'SKu3atdfh7', 'sVCzhYEORy', '0AqusRrLK2',\n",
       "        '3tSsKHYeVw', '5Xvd5MdQSH', 'nSV2PAu3cr', 'buHJdye3aB',\n",
       "        'fqaF9oymgE', 'tRkcirqEUl', 'ESgdEcWOYC', '59pcKRZ3h4',\n",
       "        'uj29Mp5aPT', 'jaT0IX5lCj', 'z6F77KsG6V', '7EM6s6qnfG',\n",
       "        'nDP1lNU6xF', 'kDfo9mgdFX', 'SMTCBOk3UZ', 'RUJf3UPYWd',\n",
       "        'kMbEj5wf33', 'mamHCtoRCJ', '85EOmtadKD', 'JfG2hygk9q',\n",
       "        'q3ILwdgUqr', 'hgFGyjWeqL', 'A3IhOrFFEJ', 'VRFsIcnrSW',\n",
       "        'zhpeKVAo4Z', 'VcL6CvFxAg', 'AJmPWoiEEJ', 'aIoyi1RlfN'],\n",
       "       dtype=object), (300,))"
      ]
     },
     "execution_count": 132,
     "metadata": {},
     "output_type": "execute_result"
    }
   ],
   "source": [
    "movies_list = df['objectID'].values\n",
    "movies_list, movies_list.shape"
   ]
  },
  {
   "cell_type": "code",
   "execution_count": 133,
   "metadata": {},
   "outputs": [
    {
     "data": {
      "text/plain": [
       "array([0.00993323, 0.        , 0.05136864, 0.01827353, 0.04378239,\n",
       "       0.0287526 , 0.02717086, 0.02605915, 0.03269251, 0.09388537,\n",
       "       0.00840585, 0.02615348, 0.05336123, 0.01659981, 0.00999785,\n",
       "       0.03597081, 0.01053826, 0.01065811, 0.01877665, 0.0533933 ,\n",
       "       0.        , 0.02636924, 0.02714609, 0.01210838, 0.01024766,\n",
       "       0.10131269, 0.0165404 , 0.00929257, 0.        , 0.04921451,\n",
       "       0.0551109 , 0.00560375, 0.04495837, 0.07019755, 0.        ,\n",
       "       0.0908002 , 0.        , 0.        , 0.0870333 , 0.        ,\n",
       "       0.        , 0.0169487 , 0.01196385, 0.02578376, 0.        ,\n",
       "       0.        , 0.05022102, 0.03660083, 0.03880366, 0.01532058,\n",
       "       0.01605611, 0.        , 0.01224879, 0.05758735, 0.        ,\n",
       "       0.        , 0.04307206, 0.08356037, 0.03891085, 0.0554973 ,\n",
       "       0.24650806, 0.04669876, 0.01971421, 0.01386701, 0.01593791,\n",
       "       0.00733273, 0.03032483, 0.01700432, 0.02645692, 0.03050253,\n",
       "       0.04767125, 0.0763688 , 0.0438506 , 0.        , 0.        ,\n",
       "       0.01977172, 0.        , 0.03072805, 0.00379476, 0.03177784,\n",
       "       0.01369404, 0.        , 0.08275071, 0.05355285, 0.03651122,\n",
       "       0.01702834, 0.        , 0.02797324, 0.        , 0.02854452,\n",
       "       0.0340352 , 0.03456427, 0.04040672, 0.04666495, 0.17123741,\n",
       "       0.03230584, 0.01313158, 0.034168  , 0.03235208, 0.00960869,\n",
       "       0.08579368, 0.03948886, 0.04523611, 0.27901532, 0.        ,\n",
       "       0.00908494, 0.        , 0.04290151, 0.02612627, 0.03866541,\n",
       "       0.        , 0.02638241, 0.0496925 , 0.00798716, 0.01142701,\n",
       "       0.0766976 , 0.        , 0.        , 0.        , 0.02522894,\n",
       "       0.03662649, 0.01806785, 0.02179701, 0.07984328, 0.0127184 ,\n",
       "       0.11660092, 0.0516815 , 0.09166579, 0.0415863 , 0.11981848,\n",
       "       0.00838304, 0.        , 0.        , 0.04057949, 0.        ,\n",
       "       0.        , 1.        , 0.04675588, 0.0367847 , 0.02876424,\n",
       "       0.07875367, 0.05842934, 0.02970183, 0.01049881, 0.04265762,\n",
       "       0.        , 0.05392479, 0.02269996, 0.05058067, 0.03661079,\n",
       "       0.02086419, 0.05058358, 0.00493558, 0.        , 0.        ,\n",
       "       0.        , 0.        , 0.        , 0.0040056 , 0.        ,\n",
       "       0.01212297, 0.02504632, 0.01893175, 0.        , 0.05210841,\n",
       "       0.01345083, 0.06852142, 0.10757886, 0.        , 0.02629061,\n",
       "       0.02586114, 0.06771509, 0.01556418, 0.01130725, 0.00688652,\n",
       "       0.01065506, 0.        , 0.01486683, 0.01212547, 0.00351586,\n",
       "       0.0220996 , 0.        , 0.        , 0.03760712, 0.00441686,\n",
       "       0.        , 0.10102839, 0.        , 0.08879917, 0.0085971 ,\n",
       "       0.04063385, 0.02532548, 0.        , 0.04572251, 0.        ,\n",
       "       0.02688968, 0.09326066, 0.04946974, 0.03854907, 0.04254928,\n",
       "       0.05628373, 0.00705515, 0.        , 0.        , 0.        ,\n",
       "       0.05552234, 0.00570028, 0.02906516, 0.05018899, 0.17000748,\n",
       "       0.07250524, 0.        , 0.        , 0.00773521, 0.        ,\n",
       "       0.        , 0.02649206, 0.06543012, 0.        , 0.01806651,\n",
       "       0.03726057, 0.07119075, 0.07025997, 0.03147693, 0.08596851,\n",
       "       0.05637197, 0.        , 0.03678649, 0.01079413, 0.        ,\n",
       "       0.10821296, 0.        , 0.08289864, 0.        , 0.01006955,\n",
       "       0.01971111, 0.03660009, 0.03482295, 0.03982308, 0.02277987,\n",
       "       0.04262179, 0.        , 0.03797295, 0.07588769, 0.04353659,\n",
       "       0.02810913, 0.        , 0.01581437, 0.03499348, 0.02685033,\n",
       "       0.02048337, 0.00925663, 0.06419274, 0.00494752, 0.00711428,\n",
       "       0.01976152, 0.05205458, 0.02699945, 0.        , 0.00793268,\n",
       "       0.03645081, 0.        , 0.05771896, 0.        , 0.        ,\n",
       "       0.        , 0.00727045, 0.00689458, 0.09898428, 0.05891301,\n",
       "       0.        , 0.02400399, 0.04876661, 0.07478813, 0.03998633,\n",
       "       0.        , 0.04343675, 0.07419815, 0.05804859, 0.01747062,\n",
       "       0.04216259, 0.01270121, 0.00717722, 0.05249966, 0.00953373,\n",
       "       0.01603832, 0.0267283 , 0.02054179, 0.06580241, 0.00917482,\n",
       "       0.02954739, 0.00564054, 0.        , 0.01216011, 0.01166961,\n",
       "       0.045938  , 0.0103428 , 0.06353557, 0.11671941, 0.0379585 ])"
      ]
     },
     "execution_count": 133,
     "metadata": {},
     "output_type": "execute_result"
    }
   ],
   "source": [
    "movie_similarities = doc_sim_df.iloc[movie_idx].values\n",
    "movie_similarities"
   ]
  },
  {
   "cell_type": "code",
   "execution_count": 134,
   "metadata": {},
   "outputs": [
    {
     "data": {
      "text/plain": [
       "136"
      ]
     },
     "execution_count": 134,
     "metadata": {},
     "output_type": "execute_result"
    }
   ],
   "source": [
    "movie_idx = np.where(movies_list == 'N2itQQuFDN')[0][0]\n",
    "movie_idx"
   ]
  },
  {
   "cell_type": "code",
   "execution_count": 135,
   "metadata": {},
   "outputs": [
    {
     "data": {
      "text/plain": [
       "array([103,  60,  94, 209, 129])"
      ]
     },
     "execution_count": 135,
     "metadata": {},
     "output_type": "execute_result"
    }
   ],
   "source": [
    "similar_movie_idxs = np.argsort(-movie_similarities)[1:6]\n",
    "similar_movie_idxs"
   ]
  },
  {
   "cell_type": "code",
   "execution_count": 136,
   "metadata": {},
   "outputs": [
    {
     "data": {
      "text/plain": [
       "array(['tUBOthLDa9', 'CFjjpnRr4t', 'wAXg1N4OZn', 'aa9JsX1Fp8',\n",
       "       'yFuDaTvAKb'], dtype=object)"
      ]
     },
     "execution_count": 136,
     "metadata": {},
     "output_type": "execute_result"
    }
   ],
   "source": [
    "similar_movies = movies_list[similar_movie_idxs]\n",
    "similar_movies"
   ]
  },
  {
   "cell_type": "code",
   "execution_count": 137,
   "metadata": {},
   "outputs": [],
   "source": [
    "# print((df.loc[df['objectID'] == \"nDP1lNU6xF\"]['text']).values[0])"
   ]
  },
  {
   "cell_type": "code",
   "execution_count": 138,
   "metadata": {},
   "outputs": [],
   "source": [
    "# for i in range(5):\n",
    "#     print(\"=>\",(df.loc[df['objectID'] == similar_movies[i]]['text']).values[0])"
   ]
  },
  {
   "cell_type": "code",
   "execution_count": 139,
   "metadata": {},
   "outputs": [],
   "source": [
    "def movie_recommender(movie_title, movies=movies_list, doc_sims=doc_sim_df):\n",
    "    # find movie id\n",
    "    movie_idx = np.where(movies == movie_title)[0][0]\n",
    "    # get movie similarities\n",
    "    movie_similarities = doc_sims.iloc[movie_idx].values\n",
    "    # get top 5 similar movie IDs\n",
    "    similar_movie_idxs = np.argsort(-movie_similarities)[1:6]\n",
    "    # get top 5 movies\n",
    "    similar_movies = movies[similar_movie_idxs]\n",
    "    # return the top 5 movies\n",
    "    return similar_movies"
   ]
  },
  {
   "cell_type": "code",
   "execution_count": 148,
   "metadata": {},
   "outputs": [],
   "source": [
    "popular_movies = ['eJKaktxEDp', 'jCNLOfJwUu', 'GlDtJJVe7T', '5Ux17Uqlhp', 'CrbJfY0bGA']"
   ]
  },
  {
   "cell_type": "code",
   "execution_count": 149,
   "metadata": {},
   "outputs": [
    {
     "name": "stdout",
     "output_type": "stream",
     "text": [
      "Movie: eJKaktxEDp\n",
      "Top 5 recommended Movies: ['LdIk9WxcGC' 'jaT0IX5lCj' 'Oqmo29bysT' 'hRNdsgmnrf' 'M3wn4zVxqF']\n",
      "Movie: jCNLOfJwUu\n",
      "Top 5 recommended Movies: ['yFuDaTvAKb' 'UjTGMDLe9N' 'wAXg1N4OZn' 'BI8NvznRwM' 'ZgJMEtLtSz']\n",
      "Movie: GlDtJJVe7T\n",
      "Top 5 recommended Movies: ['0AqusRrLK2' 'eRgsUaGfF2' 'JglKpEXObE' 'pAPBBch4rd' 'POUqTCTIV2']\n",
      "Movie: 5Ux17Uqlhp\n",
      "Top 5 recommended Movies: ['EKMKT1lNRS' 'aFNX7Bhk9u' 'vwUSAw23ng' 'Gi3pPJIbxJ' 'rfueXDEpRw']\n",
      "Movie: CrbJfY0bGA\n",
      "Top 5 recommended Movies: ['PVvcGjXp2S' '0zNBvO3QGr' 'SKu3atdfh7' '2tI4crzwET' 'cDGXAunEKK']\n"
     ]
    }
   ],
   "source": [
    "for movie in popular_movies:\n",
    "    print('Movie:', movie)\n",
    "    print('Top 5 recommended Movies:', movie_recommender(movie_title=movie, movies=movies_list, doc_sims=doc_sim_df))"
   ]
  },
  {
   "cell_type": "code",
   "execution_count": 147,
   "metadata": {},
   "outputs": [
    {
     "name": "stdout",
     "output_type": "stream",
     "text": [
      "Happy Holidays Beauties!!! For those of you celebrating Christmas Eve today I hope you’re all fully immersed in piles of cookies and eggnog up to your eyeballs! For those of you celebrating Hanukkah, Kwanzaa, or other beautiful traditions, I hope you are surrounded by meaningful new memories and precious family and friends! Enjoy this time and remember to BE IN THE PRESENT 🎁 (pun intended 🤓)\n",
      "\n",
      "\n",
      "=> Hey ladies! Just wanted to quickly pop in to wish everyone a great Monday and rest of the week! ✨ Whatever your goal is today I hope you crush it! 💥\n",
      "=> Holidays are bittersweet for most. May you enjoy the moment, be thankful for memories and never forget there is work to be done to reach those goals! XoXo #MarketingRealtor \n",
      "=> With work, our business or side hustles, and social media being the center of everything, it’s hard to unplug and just be with the ones you love this Christmas season. I’m equally as guilty. But this year, I’m making a conscious effort to be intentional with my time\\n\\nI’ve created a blog post dedicated to unplugging this holiday. I’m sharing with you my FOUR steps that I’m taking to be present with friends and family \\n\\nYou worked hard this year! Reward yourself by unplugging and having fun! Drink a little 🥂, eat often, and laugh uncontrollably! This is the best time of year to relax and look back at your accomplishments, plan for the future, and enjoy the present ✨\\n\\nWith love and light, to all my beautiful people, I wish you a very Merry Christmas and a prosperous New Year 💗\\n\\nwww.mylifestylesjourney.com/unplug\n",
      "=> Happy December!⁣⁣⁣\\nIt’s finally officially Moo-rry Christmas Season!🐮\\n🎄\\n✨Custom Christmas Ornaments✨⁣⁣⁣\\n@nickilenore >>>>dm for orders\\n\n",
      "=> Hope everyone had a wonderful Thanksgiving!\n"
     ]
    }
   ],
   "source": [
    "print((df.loc[df['objectID'] == \"nDP1lNU6xF\"]['text']).values[0])\n",
    "print('\\n')\n",
    "for i in movie_recommender(movie_title = \"nDP1lNU6xF\", movies=movies_list, doc_sims=doc_sim_df):\n",
    "    print(\"=>\",(df.loc[df['objectID'] == i]['text']).values[0])"
   ]
  },
  {
   "cell_type": "code",
   "execution_count": null,
   "metadata": {},
   "outputs": [],
   "source": []
  }
 ],
 "metadata": {
  "kernelspec": {
   "display_name": "Python 3",
   "language": "python",
   "name": "python3"
  },
  "language_info": {
   "codemirror_mode": {
    "name": "ipython",
    "version": 3
   },
   "file_extension": ".py",
   "mimetype": "text/x-python",
   "name": "python",
   "nbconvert_exporter": "python",
   "pygments_lexer": "ipython3",
   "version": "3.7.4"
  }
 },
 "nbformat": 4,
 "nbformat_minor": 2
}
