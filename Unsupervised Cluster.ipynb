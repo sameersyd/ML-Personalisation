{
 "cells": [
  {
   "cell_type": "code",
   "execution_count": 25,
   "metadata": {},
   "outputs": [],
   "source": [
    "from sklearn.feature_extraction.text import TfidfVectorizer\n",
    "from sklearn.cluster import KMeans\n",
    "import numpy as np\n",
    "import pandas as pd"
   ]
  },
  {
   "cell_type": "code",
   "execution_count": 26,
   "metadata": {},
   "outputs": [],
   "source": [
    "document = [\"This is the most beautiful place in the world.\", \n",
    "            \"This man has more skills to show in cricket than any other game.\", \n",
    "            \"Hi there! how was your ladakh trip last month?\", \n",
    "            \"There was a player who had scored 200+ runs in single cricket innings in his career.\", \n",
    "            \"I have got the opportunity to travel to Paris next year for my internship.\", \n",
    "            \"May be he is better than you in batting but you are much better than him in bowling.\", \n",
    "            \"That was really a great day for me when I was there at Lavasa for the whole night.\", \n",
    "            \"That’s exactly I wanted to become, a highest ratting batsmen ever with top scores.\", \n",
    "            \"Does it really matter wether you go to Thailand or Goa, its just you have spend your holidays.\", \n",
    "            \"Why don’t you go to Switzerland next year for your 25th Wedding anniversary?\", \n",
    "            \"Travel is fatal to prejudice, bigotry, and narrow mindedness., and many of our people need it sorely on these accounts.\", \n",
    "            \"Stop worrying about the potholes in the road and enjoy the journey.\", \n",
    "            \"No cricket team in the world depends on one or two players. The team always plays to win.\", \n",
    "            \"Cricket is a team game. If you want fame for yourself, go play an individual game.\", \n",
    "            \"Because in the end, you won’t remember the time you spent working in the office or mowing your lawn. Climb that goddamn mountain.\", \n",
    "            \"Isn’t cricket supposed to be a team sport? I feel people should decide first whether cricket is a team game or an individual sport.\"]"
   ]
  },
  {
   "cell_type": "code",
   "execution_count": 27,
   "metadata": {},
   "outputs": [],
   "source": [
    "vectorizer = TfidfVectorizer(stop_words='english')\n",
    "X = vectorizer.fit_transform(document)"
   ]
  },
  {
   "cell_type": "code",
   "execution_count": 28,
   "metadata": {},
   "outputs": [
    {
     "data": {
      "text/plain": [
       "KMeans(algorithm='auto', copy_x=True, init='k-means++', max_iter=100,\n",
       "       n_clusters=3, n_init=1, n_jobs=None, precompute_distances='auto',\n",
       "       random_state=None, tol=0.0001, verbose=0)"
      ]
     },
     "execution_count": 28,
     "metadata": {},
     "output_type": "execute_result"
    }
   ],
   "source": [
    "true_k = 3\n",
    "model = KMeans(n_clusters=true_k, init='k-means++', max_iter=100, n_init=1)\n",
    "model.fit(X)"
   ]
  },
  {
   "cell_type": "code",
   "execution_count": 29,
   "metadata": {},
   "outputs": [],
   "source": [
    "order_centroids = model.cluster_centers_.argsort()[:, ::-1]\n",
    "terms = vectorizer.get_feature_names()"
   ]
  },
  {
   "cell_type": "code",
   "execution_count": 31,
   "metadata": {},
   "outputs": [
    {
     "name": "stdout",
     "output_type": "stream",
     "text": [
      "Cluster 0:\n",
      " cricket\n",
      " team\n",
      " game\n",
      " world\n",
      " beautiful\n",
      " place\n",
      " man\n",
      " skills\n",
      " individual\n",
      " sport\n",
      "Cluster 1:\n",
      " year\n",
      " travel\n",
      " got\n",
      " internship\n",
      " paris\n",
      " opportunity\n",
      " switzerland\n",
      " 25th\n",
      " wedding\n",
      " anniversary\n",
      "Cluster 2:\n",
      " better\n",
      " batting\n",
      " bowling\n",
      " year\n",
      " internship\n",
      " goddamn\n",
      " got\n",
      " great\n",
      " hi\n",
      " highest\n"
     ]
    }
   ],
   "source": [
    "#Show Clustered models\n",
    "for i in range(true_k):\n",
    "    print(\"Cluster %d:\" % i),\n",
    "    for ind in order_centroids[i, :10]:\n",
    "        print(' %s' % terms[ind])"
   ]
  },
  {
   "cell_type": "code",
   "execution_count": 32,
   "metadata": {},
   "outputs": [
    {
     "name": "stdout",
     "output_type": "stream",
     "text": [
      "Prediction\n",
      "[0]\n"
     ]
    }
   ],
   "source": [
    "print(\"Prediction\")\n",
    "X = vectorizer.transform([\"Nothing is easy in cricket. Maybe when you watch it on TV, it looks easy. But it is not. You have to use your brain and time the ball.\"])\n",
    "predicted = model.predict(X)\n",
    "print(predicted)"
   ]
  },
  {
   "cell_type": "code",
   "execution_count": null,
   "metadata": {},
   "outputs": [],
   "source": []
  }
 ],
 "metadata": {
  "kernelspec": {
   "display_name": "Python 3",
   "language": "python",
   "name": "python3"
  },
  "language_info": {
   "codemirror_mode": {
    "name": "ipython",
    "version": 3
   },
   "file_extension": ".py",
   "mimetype": "text/x-python",
   "name": "python",
   "nbconvert_exporter": "python",
   "pygments_lexer": "ipython3",
   "version": "3.7.4"
  }
 },
 "nbformat": 4,
 "nbformat_minor": 2
}
