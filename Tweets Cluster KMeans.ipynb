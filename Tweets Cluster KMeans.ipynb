{
 "cells": [
  {
   "cell_type": "code",
   "execution_count": 128,
   "metadata": {},
   "outputs": [],
   "source": [
    "import csv\n",
    "from sklearn.feature_extraction.text import TfidfVectorizer\n",
    "from sklearn.cluster import KMeans\n",
    "import numpy as np\n",
    "import pandas as pd"
   ]
  },
  {
   "cell_type": "code",
   "execution_count": 129,
   "metadata": {},
   "outputs": [],
   "source": [
    "# document = [\"This is the most beautiful place in the world.\", \n",
    "#             \"This man has more skills to show in cricket than any other game.\", \n",
    "#             \"Hi there! how was your ladakh trip last month?\", \n",
    "#             \"There was a player who had scored 200+ runs in single cricket innings in his career.\", \n",
    "#             \"I have got the opportunity to travel to Paris next year for my internship.\", \n",
    "#             \"May be he is better than you in batting but you are much better than him in bowling.\", \n",
    "#             \"That was really a great day for me when I was there at Lavasa for the whole night.\", \n",
    "#             \"That’s exactly I wanted to become, a highest ratting batsmen ever with top scores.\", \n",
    "#             \"Does it really matter wether you go to Thailand or Goa, its just you have spend your holidays.\", \n",
    "#             \"Why don’t you go to Switzerland next year for your 25th Wedding anniversary?\", \n",
    "#             \"Travel is fatal to prejudice, bigotry, and narrow mindedness., and many of our people need it sorely on these accounts.\", \n",
    "#             \"Stop worrying about the potholes in the road and enjoy the journey.\", \n",
    "#             \"No cricket team in the world depends on one or two players. The team always plays to win.\", \n",
    "#             \"Cricket is a team game. If you want fame for yourself, go play an individual game.\", \n",
    "#             \"Because in the end, you won’t remember the time you spent working in the office or mowing your lawn. Climb that goddamn mountain.\", \n",
    "#             \"Isn’t cricket supposed to be a team sport? I feel people should decide first whether cricket is a team game or an individual sport.\"]"
   ]
  },
  {
   "cell_type": "code",
   "execution_count": 130,
   "metadata": {},
   "outputs": [],
   "source": [
    "def setDocumentContent():\n",
    "    with open('/Users/sameernawaz/AnacondaProjects/Jupyter Notebook/ML Personalisation/Datasets/trainingTextClassification.csv', 'r') as csv_file:\n",
    "        csv_reader = csv.reader(csv_file)\n",
    "        count = 0\n",
    "        for line in csv_reader:\n",
    "            val[count] = line\n",
    "            count = count + 1\n",
    "            if count >= sizeOfSets :\n",
    "                break\n",
    "            \n",
    "    countTemp = 0\n",
    "    for i in val:\n",
    "        document[countTemp] = i[5]\n",
    "        countTemp += 1"
   ]
  },
  {
   "cell_type": "code",
   "execution_count": 131,
   "metadata": {},
   "outputs": [],
   "source": [
    "sizeOfSets = 1000\n",
    "val = [None] * sizeOfSets\n",
    "document = [\"\"] * sizeOfSets\n",
    "\n",
    "setDocumentContent()"
   ]
  },
  {
   "cell_type": "code",
   "execution_count": 132,
   "metadata": {},
   "outputs": [],
   "source": [
    "vectorizer = TfidfVectorizer(stop_words='english')\n",
    "X = vectorizer.fit_transform(document)"
   ]
  },
  {
   "cell_type": "code",
   "execution_count": 133,
   "metadata": {},
   "outputs": [
    {
     "data": {
      "text/plain": [
       "KMeans(algorithm='auto', copy_x=True, init='k-means++', max_iter=100,\n",
       "       n_clusters=3, n_init=1, n_jobs=None, precompute_distances='auto',\n",
       "       random_state=None, tol=0.0001, verbose=0)"
      ]
     },
     "execution_count": 133,
     "metadata": {},
     "output_type": "execute_result"
    }
   ],
   "source": [
    "true_k = 3\n",
    "model = KMeans(n_clusters=true_k, init='k-means++', max_iter=100, n_init=1)\n",
    "model.fit(X)"
   ]
  },
  {
   "cell_type": "code",
   "execution_count": 134,
   "metadata": {},
   "outputs": [],
   "source": [
    "order_centroids = model.cluster_centers_.argsort()[:, ::-1]\n",
    "terms = vectorizer.get_feature_names()"
   ]
  },
  {
   "cell_type": "code",
   "execution_count": 135,
   "metadata": {},
   "outputs": [
    {
     "name": "stdout",
     "output_type": "stream",
     "text": [
      "Cluster 0:\n",
      " think\n",
      " today\n",
      " need\n",
      " going\n",
      " school\n",
      "Cluster 1:\n",
      " just\n",
      " sleep\n",
      " im\n",
      " got\n",
      " sad\n",
      "Cluster 2:\n",
      " work\n",
      " like\n",
      " sad\n",
      " don\n",
      " miss\n"
     ]
    }
   ],
   "source": [
    "# Shows Clustered groups\n",
    "for i in range(true_k):\n",
    "    print(\"Cluster %d:\" % i),\n",
    "    for ind in order_centroids[i, :5]:\n",
    "        print(' %s' % terms[ind])"
   ]
  },
  {
   "cell_type": "code",
   "execution_count": 136,
   "metadata": {},
   "outputs": [
    {
     "name": "stdout",
     "output_type": "stream",
     "text": [
      "Prediction\n",
      "[2]\n"
     ]
    }
   ],
   "source": [
    "print(\"Prediction\")\n",
    "X = vectorizer.transform([\"Nothing is easy in cricket. Maybe when you watch it on TV, it looks easy. But it is not. You have to use your brain and time the ball.\"])\n",
    "predicted = model.predict(X)\n",
    "print(predicted)"
   ]
  },
  {
   "cell_type": "code",
   "execution_count": null,
   "metadata": {},
   "outputs": [],
   "source": []
  }
 ],
 "metadata": {
  "kernelspec": {
   "display_name": "Python 3",
   "language": "python",
   "name": "python3"
  },
  "language_info": {
   "codemirror_mode": {
    "name": "ipython",
    "version": 3
   },
   "file_extension": ".py",
   "mimetype": "text/x-python",
   "name": "python",
   "nbconvert_exporter": "python",
   "pygments_lexer": "ipython3",
   "version": "3.7.4"
  }
 },
 "nbformat": 4,
 "nbformat_minor": 2
}
